{
 "cells": [
  {
   "cell_type": "code",
   "execution_count": 1,
   "id": "80b5a90e",
   "metadata": {},
   "outputs": [
    {
     "name": "stdout",
     "output_type": "stream",
     "text": [
      "Requirement already satisfied: langchain-community in ./.venv/lib/python3.9/site-packages (0.3.27)\n",
      "Requirement already satisfied: langchain in ./.venv/lib/python3.9/site-packages (0.3.27)\n",
      "Requirement already satisfied: httpx-sse<1.0.0,>=0.4.0 in ./.venv/lib/python3.9/site-packages (from langchain-community) (0.4.1)\n",
      "Requirement already satisfied: PyYAML>=5.3 in ./.venv/lib/python3.9/site-packages (from langchain-community) (6.0.2)\n",
      "Requirement already satisfied: aiohttp<4.0.0,>=3.8.3 in ./.venv/lib/python3.9/site-packages (from langchain-community) (3.12.15)\n",
      "Requirement already satisfied: langsmith>=0.1.125 in ./.venv/lib/python3.9/site-packages (from langchain-community) (0.4.9)\n",
      "Requirement already satisfied: requests<3,>=2 in ./.venv/lib/python3.9/site-packages (from langchain-community) (2.32.4)\n",
      "Requirement already satisfied: SQLAlchemy<3,>=1.4 in ./.venv/lib/python3.9/site-packages (from langchain-community) (2.0.42)\n",
      "Requirement already satisfied: dataclasses-json<0.7,>=0.5.7 in ./.venv/lib/python3.9/site-packages (from langchain-community) (0.6.7)\n",
      "Requirement already satisfied: langchain-core<1.0.0,>=0.3.66 in ./.venv/lib/python3.9/site-packages (from langchain-community) (0.3.72)\n",
      "Requirement already satisfied: tenacity!=8.4.0,<10,>=8.1.0 in ./.venv/lib/python3.9/site-packages (from langchain-community) (9.1.2)\n",
      "Requirement already satisfied: numpy>=1.26.2 in ./.venv/lib/python3.9/site-packages (from langchain-community) (2.0.2)\n",
      "Requirement already satisfied: pydantic-settings<3.0.0,>=2.4.0 in ./.venv/lib/python3.9/site-packages (from langchain-community) (2.10.1)\n",
      "Requirement already satisfied: pydantic<3.0.0,>=2.7.4 in ./.venv/lib/python3.9/site-packages (from langchain) (2.11.7)\n",
      "Requirement already satisfied: langchain-text-splitters<1.0.0,>=0.3.9 in ./.venv/lib/python3.9/site-packages (from langchain) (0.3.9)\n",
      "Requirement already satisfied: async-timeout<5.0.0,>=4.0.0 in ./.venv/lib/python3.9/site-packages (from langchain) (4.0.3)\n",
      "Requirement already satisfied: multidict<7.0,>=4.5 in ./.venv/lib/python3.9/site-packages (from aiohttp<4.0.0,>=3.8.3->langchain-community) (6.6.3)\n",
      "Requirement already satisfied: propcache>=0.2.0 in ./.venv/lib/python3.9/site-packages (from aiohttp<4.0.0,>=3.8.3->langchain-community) (0.3.2)\n",
      "Requirement already satisfied: attrs>=17.3.0 in ./.venv/lib/python3.9/site-packages (from aiohttp<4.0.0,>=3.8.3->langchain-community) (25.3.0)\n",
      "Requirement already satisfied: aiohappyeyeballs>=2.5.0 in ./.venv/lib/python3.9/site-packages (from aiohttp<4.0.0,>=3.8.3->langchain-community) (2.6.1)\n",
      "Requirement already satisfied: yarl<2.0,>=1.17.0 in ./.venv/lib/python3.9/site-packages (from aiohttp<4.0.0,>=3.8.3->langchain-community) (1.20.1)\n",
      "Requirement already satisfied: frozenlist>=1.1.1 in ./.venv/lib/python3.9/site-packages (from aiohttp<4.0.0,>=3.8.3->langchain-community) (1.7.0)\n",
      "Requirement already satisfied: aiosignal>=1.4.0 in ./.venv/lib/python3.9/site-packages (from aiohttp<4.0.0,>=3.8.3->langchain-community) (1.4.0)\n",
      "Requirement already satisfied: typing-extensions>=4.2 in ./.venv/lib/python3.9/site-packages (from aiosignal>=1.4.0->aiohttp<4.0.0,>=3.8.3->langchain-community) (4.14.1)\n",
      "Requirement already satisfied: typing-inspect<1,>=0.4.0 in ./.venv/lib/python3.9/site-packages (from dataclasses-json<0.7,>=0.5.7->langchain-community) (0.9.0)\n",
      "Requirement already satisfied: marshmallow<4.0.0,>=3.18.0 in ./.venv/lib/python3.9/site-packages (from dataclasses-json<0.7,>=0.5.7->langchain-community) (3.26.1)\n",
      "Requirement already satisfied: packaging>=23.2 in ./.venv/lib/python3.9/site-packages (from langchain-core<1.0.0,>=0.3.66->langchain-community) (25.0)\n",
      "Requirement already satisfied: jsonpatch<2.0,>=1.33 in ./.venv/lib/python3.9/site-packages (from langchain-core<1.0.0,>=0.3.66->langchain-community) (1.33)\n",
      "Requirement already satisfied: jsonpointer>=1.9 in ./.venv/lib/python3.9/site-packages (from jsonpatch<2.0,>=1.33->langchain-core<1.0.0,>=0.3.66->langchain-community) (3.0.0)\n",
      "Requirement already satisfied: zstandard<0.24.0,>=0.23.0 in ./.venv/lib/python3.9/site-packages (from langsmith>=0.1.125->langchain-community) (0.23.0)\n",
      "Requirement already satisfied: orjson<4.0.0,>=3.9.14 in ./.venv/lib/python3.9/site-packages (from langsmith>=0.1.125->langchain-community) (3.11.1)\n",
      "Requirement already satisfied: requests-toolbelt<2.0.0,>=1.0.0 in ./.venv/lib/python3.9/site-packages (from langsmith>=0.1.125->langchain-community) (1.0.0)\n",
      "Requirement already satisfied: httpx<1,>=0.23.0 in ./.venv/lib/python3.9/site-packages (from langsmith>=0.1.125->langchain-community) (0.28.1)\n",
      "Requirement already satisfied: httpcore==1.* in ./.venv/lib/python3.9/site-packages (from httpx<1,>=0.23.0->langsmith>=0.1.125->langchain-community) (1.0.9)\n",
      "Requirement already satisfied: anyio in ./.venv/lib/python3.9/site-packages (from httpx<1,>=0.23.0->langsmith>=0.1.125->langchain-community) (4.9.0)\n",
      "Requirement already satisfied: certifi in ./.venv/lib/python3.9/site-packages (from httpx<1,>=0.23.0->langsmith>=0.1.125->langchain-community) (2025.7.14)\n",
      "Requirement already satisfied: idna in ./.venv/lib/python3.9/site-packages (from httpx<1,>=0.23.0->langsmith>=0.1.125->langchain-community) (3.10)\n",
      "Requirement already satisfied: h11>=0.16 in ./.venv/lib/python3.9/site-packages (from httpcore==1.*->httpx<1,>=0.23.0->langsmith>=0.1.125->langchain-community) (0.16.0)\n",
      "Requirement already satisfied: typing-inspection>=0.4.0 in ./.venv/lib/python3.9/site-packages (from pydantic<3.0.0,>=2.7.4->langchain) (0.4.1)\n",
      "Requirement already satisfied: pydantic-core==2.33.2 in ./.venv/lib/python3.9/site-packages (from pydantic<3.0.0,>=2.7.4->langchain) (2.33.2)\n",
      "Requirement already satisfied: annotated-types>=0.6.0 in ./.venv/lib/python3.9/site-packages (from pydantic<3.0.0,>=2.7.4->langchain) (0.7.0)\n",
      "Requirement already satisfied: python-dotenv>=0.21.0 in ./.venv/lib/python3.9/site-packages (from pydantic-settings<3.0.0,>=2.4.0->langchain-community) (1.1.1)\n",
      "Requirement already satisfied: charset_normalizer<4,>=2 in ./.venv/lib/python3.9/site-packages (from requests<3,>=2->langchain-community) (3.4.2)\n",
      "Requirement already satisfied: urllib3<3,>=1.21.1 in ./.venv/lib/python3.9/site-packages (from requests<3,>=2->langchain-community) (2.5.0)\n",
      "Requirement already satisfied: mypy-extensions>=0.3.0 in ./.venv/lib/python3.9/site-packages (from typing-inspect<1,>=0.4.0->dataclasses-json<0.7,>=0.5.7->langchain-community) (1.1.0)\n",
      "Requirement already satisfied: exceptiongroup>=1.0.2 in ./.venv/lib/python3.9/site-packages (from anyio->httpx<1,>=0.23.0->langsmith>=0.1.125->langchain-community) (1.3.0)\n",
      "Requirement already satisfied: sniffio>=1.1 in ./.venv/lib/python3.9/site-packages (from anyio->httpx<1,>=0.23.0->langsmith>=0.1.125->langchain-community) (1.3.1)\n",
      "\u001b[33mWARNING: You are using pip version 21.2.4; however, version 25.2 is available.\n",
      "You should consider upgrading via the '/Users/adityakumar/Library/Mobile Documents/com~apple~CloudDocs/RAG/.venv/bin/python -m pip install --upgrade pip' command.\u001b[0m\n",
      "Note: you may need to restart the kernel to use updated packages.\n"
     ]
    },
    {
     "name": "stderr",
     "output_type": "stream",
     "text": [
      "/Users/adityakumar/Library/Mobile Documents/com~apple~CloudDocs/RAG/.venv/lib/python3.9/site-packages/urllib3/__init__.py:35: NotOpenSSLWarning: urllib3 v2 only supports OpenSSL 1.1.1+, currently the 'ssl' module is compiled with 'LibreSSL 2.8.3'. See: https://github.com/urllib3/urllib3/issues/3020\n",
      "  warnings.warn(\n"
     ]
    },
    {
     "name": "stdout",
     "output_type": "stream",
     "text": [
      "Loaded 256 pages.\n",
      "Split into 1136 chunks.\n",
      "AN\tIMPRINT\tOF\tPENGUIN\tRANDOM\tHOUSE\tLLC\n",
      "375\tHudson\tStreet\n",
      "New\tYork,\tNew\tYork\t10014\n",
      "Copyright\t©\t2018\tby\tJames\tClear\n",
      "Penguin\tsupports\tcopyright.\tCopyright\tfuels\tcreativity,\tencourages\tdiverse\tvoices,\tpromotes\tfree\tspeech,\tand\tcreates\ta\tvibrant\tculture.\tThank\tyou\tfor\tbuying\tan\tauthorized\tedition\tof\tthis\n"
     ]
    }
   ],
   "source": [
    "%pip install langchain-community langchain\n",
    "\n",
    "from langchain_community.document_loaders import PyPDFLoader\n",
    "from langchain.text_splitter import RecursiveCharacterTextSplitter\n",
    "\n",
    "loader = PyPDFLoader(\"Atomic habits ( PDFDrive ).pdf\")\n",
    "pages = loader.load()\n",
    "\n",
    "splitter = RecursiveCharacterTextSplitter(\n",
    "    chunk_size=500,\n",
    "    chunk_overlap=50\n",
    ")\n",
    "\n",
    "chunks = splitter.split_documents(pages)\n",
    "\n",
    "print(f\"Loaded {len(pages)} pages.\")\n",
    "print(f\"Split into {len(chunks)} chunks.\")\n",
    "print(chunks[0].page_content[:300])"
   ]
  },
  {
   "cell_type": "code",
   "execution_count": 2,
   "id": "1b30b480",
   "metadata": {},
   "outputs": [
    {
     "name": "stderr",
     "output_type": "stream",
     "text": [
      "/var/folders/p6/4h0t9jjs23x6rkn0rv0v0lm40000gn/T/ipykernel_8121/2402964887.py:4: LangChainDeprecationWarning: The class `OllamaEmbeddings` was deprecated in LangChain 0.3.1 and will be removed in 1.0.0. An updated version of the class exists in the :class:`~langchain-ollama package and should be used instead. To use it run `pip install -U :class:`~langchain-ollama` and import as `from :class:`~langchain_ollama import OllamaEmbeddings``.\n",
      "  embedding = OllamaEmbeddings(model=\"nomic-embed-text\")\n"
     ]
    },
    {
     "name": "stdout",
     "output_type": "stream",
     "text": [
      "✅ Vector store created and saved.\n"
     ]
    }
   ],
   "source": [
    "from langchain_community.vectorstores import FAISS\n",
    "from langchain.embeddings import OllamaEmbeddings\n",
    "\n",
    "embedding = OllamaEmbeddings(model=\"nomic-embed-text\")\n",
    "vectorstore = FAISS.from_documents(chunks, embedding=embedding)\n",
    "vectorstore.save_local(\"faiss_index\")\n",
    "\n",
    "print(\"✅ Vector store created and saved.\")"
   ]
  },
  {
   "cell_type": "code",
   "execution_count": 3,
   "id": "d537c169",
   "metadata": {},
   "outputs": [
    {
     "name": "stderr",
     "output_type": "stream",
     "text": [
      "/var/folders/p6/4h0t9jjs23x6rkn0rv0v0lm40000gn/T/ipykernel_8121/1638616006.py:11: LangChainDeprecationWarning: The class `Ollama` was deprecated in LangChain 0.3.1 and will be removed in 1.0.0. An updated version of the class exists in the :class:`~langchain-ollama package and should be used instead. To use it run `pip install -U :class:`~langchain-ollama` and import as `from :class:`~langchain_ollama import OllamaLLM``.\n",
      "  llm = Ollama(model=\"mistral\")\n",
      "/var/folders/p6/4h0t9jjs23x6rkn0rv0v0lm40000gn/T/ipykernel_8121/1638616006.py:22: LangChainDeprecationWarning: The method `Chain.__call__` was deprecated in langchain 0.1.0 and will be removed in 1.0. Use :meth:`~invoke` instead.\n",
      "  result = qa_chain(query)\n"
     ]
    },
    {
     "name": "stdout",
     "output_type": "stream",
     "text": [
      "Answer:  The book does not specifically describe any particular key habits, but instead focuses on the process of building better habits in general. The Four Laws of Behavior Change outlined in the text are considered a simple set of rules to build better habits:\n",
      "\n",
      "1. Make it obvious - Identify the cue and craving that trigger a behavior, and make the desired response associated with it more apparent.\n",
      "2. Make it attractive - Increase the reward and satisfaction you get from performing the desired habit.\n",
      "3. Make it easy - Minimize the effort or barriers to doing the desired habit.\n",
      "4. Make it satisfying - Reward yourself for performing the desired habit to reinforce it.\n",
      "\n",
      "Sources:\n",
      "- Atomic habits ( PDFDrive ).pdf\n",
      "- Atomic habits ( PDFDrive ).pdf\n",
      "- Atomic habits ( PDFDrive ).pdf\n",
      "- Atomic habits ( PDFDrive ).pdf\n"
     ]
    }
   ],
   "source": [
    "from langchain.chains import RetrievalQA\n",
    "from langchain_community.llms import Ollama\n",
    "\n",
    "# Load the FAISS index\n",
    "vectorstore = FAISS.load_local(\"faiss_index\", embedding, allow_dangerous_deserialization=True)\n",
    "\n",
    "# Create retriever\n",
    "retriever = vectorstore.as_retriever()\n",
    "\n",
    "# Connect Ollama LLM (Mistral)\n",
    "llm = Ollama(model=\"mistral\")\n",
    "\n",
    "# Build the RAG QA chain\n",
    "qa_chain = RetrievalQA.from_chain_type(\n",
    "    llm=llm,\n",
    "    retriever=retriever,\n",
    "    return_source_documents=True\n",
    ")\n",
    "\n",
    "# Ask a question!\n",
    "query = \"What are the key habits described in the book?\"\n",
    "result = qa_chain(query)\n",
    "\n",
    "print(\"Answer:\", result[\"result\"])\n",
    "print(\"\\nSources:\")\n",
    "for doc in result[\"source_documents\"]:\n",
    "    print(\"-\", doc.metadata.get(\"source\", \"No source\"))"
   ]
  },
  {
   "cell_type": "code",
   "execution_count": 8,
   "id": "2664f803",
   "metadata": {},
   "outputs": [
    {
     "name": "stdout",
     "output_type": "stream",
     "text": [
      "Answer:  The context provided does not directly mention walking slowly but never backward. However, the text discusses how habits form based on frequency, not time, and it emphasizes that once a habit is formed, it often determines the choices we make. If someone were to develop a habit of walking slowly, they might find it difficult to break that habit and start walking quickly or even walk backwards, as their brain has established a pattern of walking slowly. But without specific information about walking slowly but never backward, this answer is speculative and based on general interpretations from the provided context.\n",
      "\n",
      "Sources:\n",
      "- Atomic habits ( PDFDrive ).pdf\n",
      "- Atomic habits ( PDFDrive ).pdf\n",
      "- Atomic habits ( PDFDrive ).pdf\n",
      "- Atomic habits ( PDFDrive ).pdf\n"
     ]
    }
   ],
   "source": [
    "query = \"tell more about walk slowely but never backward\"\n",
    "result = qa_chain(query)\n",
    "\n",
    "print(\"Answer:\", result[\"result\"])\n",
    "print(\"\\nSources:\")\n",
    "for doc in result[\"source_documents\"]:\n",
    "    print(\"-\", doc.metadata.get(\"source\", \"No source\"))"
   ]
  },
  {
   "cell_type": "code",
   "execution_count": 7,
   "id": "732c469e",
   "metadata": {},
   "outputs": [
    {
     "name": "stdout",
     "output_type": "stream",
     "text": [
      "Answer:  The author of the provided context is James Clear.\n",
      "\n",
      "Sources:\n",
      "- Atomic habits ( PDFDrive ).pdf\n",
      "- Atomic habits ( PDFDrive ).pdf\n",
      "- Atomic habits ( PDFDrive ).pdf\n",
      "- Atomic habits ( PDFDrive ).pdf\n"
     ]
    }
   ],
   "source": [
    "query = \"who is the author?\"\n",
    "result = qa_chain(query)\n",
    "\n",
    "print(\"Answer:\", result[\"result\"])\n",
    "print(\"\\nSources:\")\n",
    "for doc in result[\"source_documents\"]:\n",
    "    print(\"-\", doc.metadata.get(\"source\", \"No source\"))"
   ]
  },
  {
   "cell_type": "code",
   "execution_count": 6,
   "id": "7d3df34e",
   "metadata": {},
   "outputs": [
    {
     "name": "stdout",
     "output_type": "stream",
     "text": [
      "Answer:  In the context provided, it's not entirely clear what \"Enviorment matter more\" refers to. However, based on the discussion about reducing friction associated with habits and designing one's environment for success, it seems that in this context, the emphasis is on how one's environment can significantly impact their habits and overall well-being. So, in a sense, the \"environment\" matters more when it comes to simplifying one's life and achieving success. This is achieved by designing an environment that aligns with one's goals and reduces the friction associated with one's habits.\n",
      "\n",
      "Sources:\n",
      "- Atomic habits ( PDFDrive ).pdf\n",
      "- Atomic habits ( PDFDrive ).pdf\n",
      "- Atomic habits ( PDFDrive ).pdf\n",
      "- Atomic habits ( PDFDrive ).pdf\n"
     ]
    }
   ],
   "source": [
    "query = \"what is Enviorment matter more?\"\n",
    "result = qa_chain(query)\n",
    "\n",
    "print(\"Answer:\", result[\"result\"])\n",
    "print(\"\\nSources:\")\n",
    "for doc in result[\"source_documents\"]:\n",
    "    print(\"-\", doc.metadata.get(\"source\", \"No source\"))"
   ]
  },
  {
   "cell_type": "markdown",
   "id": "15e8806a",
   "metadata": {},
   "source": [
    "##\n",
    "\n",
    "In this assignment, I learned how to build a local RAG pipeline using LangChain and Ollama. I uploaded a PDF, split it into chunks, embedded it using a local model, stored it in FAISS, and queried it with Mistral. I also customized prompts to improve answer quality.\n",
    "\n",
    "Tools used:\n",
    "- LangChain\n",
    "- Ollama (nomic-embed-text & mistral)\n",
    "- FAISS vector store\n",
    "\n",
    "This helped me understand how retrieval-based systems work in real-world GenAI apps."
   ]
  }
 ],
 "metadata": {
  "kernelspec": {
   "display_name": ".venv (3.9.6)",
   "language": "python",
   "name": "python3"
  },
  "language_info": {
   "codemirror_mode": {
    "name": "ipython",
    "version": 3
   },
   "file_extension": ".py",
   "mimetype": "text/x-python",
   "name": "python",
   "nbconvert_exporter": "python",
   "pygments_lexer": "ipython3",
   "version": "3.9.6"
  }
 },
 "nbformat": 4,
 "nbformat_minor": 5
}
